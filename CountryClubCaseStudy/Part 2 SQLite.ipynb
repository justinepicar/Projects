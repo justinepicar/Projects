{
 "cells": [
  {
   "cell_type": "code",
   "execution_count": 5,
   "id": "provincial-purchase",
   "metadata": {
    "scrolled": true
   },
   "outputs": [
    {
     "name": "stdout",
     "output_type": "stream",
     "text": [
      "The autoreload extension is already loaded. To reload it, use:\n",
      "  %reload_ext autoreload\n"
     ]
    }
   ],
   "source": [
    "%load_ext autoreload\n",
    "%autoreload 2"
   ]
  },
  {
   "cell_type": "code",
   "execution_count": 6,
   "id": "joined-butler",
   "metadata": {
    "scrolled": true
   },
   "outputs": [],
   "source": [
    "from LocalSQLEngine import *"
   ]
  },
  {
   "cell_type": "code",
   "execution_count": 7,
   "id": "gorgeous-consultancy",
   "metadata": {
    "scrolled": false
   },
   "outputs": [
    {
     "name": "stdout",
     "output_type": "stream",
     "text": [
      "connection established\n",
      "(0, 'Tennis Court 1', 5, 25, 10000, 200)\n",
      "(1, 'Tennis Court 2', 5, 25, 8000, 200)\n",
      "(2, 'Badminton Court', 0, 15.5, 4000, 50)\n",
      "(3, 'Table Tennis', 0, 5, 320, 10)\n",
      "(4, 'Massage Room 1', 9.9, 80, 4000, 3000)\n",
      "(5, 'Massage Room 2', 9.9, 80, 4000, 3000)\n",
      "(6, 'Squash Court', 3.5, 17.5, 5000, 80)\n",
      "(7, 'Snooker Table', 0, 5, 450, 15)\n",
      "(8, 'Pool Table', 0, 5, 400, 15)\n"
     ]
    }
   ],
   "source": [
    "database = 'sqlite:///sqlite_db_pythonsqlite.db'\n",
    "# create connection\n",
    "conn = create_sql_engine(database)\n",
    "table = select_table(conn)"
   ]
  },
  {
   "cell_type": "code",
   "execution_count": 14,
   "id": "recreational-sending",
   "metadata": {},
   "outputs": [
    {
     "name": "stdout",
     "output_type": "stream",
     "text": [
      "               0    1\n",
      "0   Table Tennis  180\n",
      "1  Snooker Table  240\n",
      "2     Pool Table  270\n"
     ]
    }
   ],
   "source": [
    "# Q10: Produce a list of facilities with a total revenue less than 1000.\n",
    "# The output of facility name and total revenue, sorted by revenue. Remember\n",
    "# that there's a different cost for guests and members!\n",
    "\n",
    "query = '''SELECT facility, SUM(revenue) AS facility_revenue\n",
    "           FROM (SELECT f.name as facility,\n",
    "                        CASE WHEN b.memid = 0 THEN f.guestcost*slots\n",
    "                        ELSE f.membercost*slots END AS revenue\n",
    "                 FROM Bookings as b\n",
    "                 LEFT JOIN Members as m\n",
    "                 ON b.memid = m.memid\n",
    "                 LEFT JOIN Facilities as f\n",
    "                 ON b.facid = f.facid) AS total_booking\n",
    "            GROUP BY facility\n",
    "            HAVING facility_revenue < 1000\n",
    "            ORDER BY SUM(revenue)'''\n",
    "\n",
    "call_query(conn, query)"
   ]
  },
  {
   "cell_type": "code",
   "execution_count": null,
   "id": "enormous-filling",
   "metadata": {},
   "outputs": [],
   "source": [
    "# Q11: Produce a report of members and who recommended them in alphabetic surname,firstname order\n",
    "SELECT\n",
    "FROM\n"
   ]
  },
  {
   "cell_type": "code",
   "execution_count": null,
   "id": "confident-given",
   "metadata": {},
   "outputs": [],
   "source": [
    "# Q12: Find the facilities with their usage by member, but not guests\n",
    "SELECT\n",
    "FROM\n"
   ]
  },
  {
   "cell_type": "code",
   "execution_count": null,
   "id": "logical-start",
   "metadata": {},
   "outputs": [],
   "source": [
    "# Q13: Find the facilities usage by month, but not guests\n",
    "SELECT\n",
    "FROM\n"
   ]
  }
 ],
 "metadata": {
  "kernelspec": {
   "display_name": "Python 3",
   "language": "python",
   "name": "python3"
  },
  "language_info": {
   "codemirror_mode": {
    "name": "ipython",
    "version": 3
   },
   "file_extension": ".py",
   "mimetype": "text/x-python",
   "name": "python",
   "nbconvert_exporter": "python",
   "pygments_lexer": "ipython3",
   "version": "3.7.9"
  }
 },
 "nbformat": 4,
 "nbformat_minor": 5
}
