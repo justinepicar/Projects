{
 "cells": [
  {
   "cell_type": "code",
   "execution_count": 1,
   "id": "needed-friday",
   "metadata": {
    "scrolled": true
   },
   "outputs": [],
   "source": [
    "%load_ext autoreload\n",
    "%autoreload 2"
   ]
  },
  {
   "cell_type": "code",
   "execution_count": 2,
   "id": "invisible-factory",
   "metadata": {
    "scrolled": true
   },
   "outputs": [],
   "source": [
    "from LocalSQLEngine import *"
   ]
  },
  {
   "cell_type": "code",
   "execution_count": 3,
   "id": "tutorial-jacob",
   "metadata": {
    "scrolled": false
   },
   "outputs": [
    {
     "name": "stdout",
     "output_type": "stream",
     "text": [
      "connection established\n",
      "(0, 'Tennis Court 1', 5, 25, 10000, 200)\n",
      "(1, 'Tennis Court 2', 5, 25, 8000, 200)\n",
      "(2, 'Badminton Court', 0, 15.5, 4000, 50)\n",
      "(3, 'Table Tennis', 0, 5, 320, 10)\n",
      "(4, 'Massage Room 1', 9.9, 80, 4000, 3000)\n",
      "(5, 'Massage Room 2', 9.9, 80, 4000, 3000)\n",
      "(6, 'Squash Court', 3.5, 17.5, 5000, 80)\n",
      "(7, 'Snooker Table', 0, 5, 450, 15)\n",
      "(8, 'Pool Table', 0, 5, 400, 15)\n"
     ]
    }
   ],
   "source": [
    "database = 'sqlite:///sqlite_db_pythonsqlite.db'\n",
    "# create connection\n",
    "conn = create_sql_engine(database)\n",
    "table = select_table(conn)"
   ]
  },
  {
   "cell_type": "code",
   "execution_count": 4,
   "id": "ordinary-mission",
   "metadata": {},
   "outputs": [
    {
     "name": "stdout",
     "output_type": "stream",
     "text": [
      "               0    1\n",
      "0   Table Tennis  180\n",
      "1  Snooker Table  240\n",
      "2     Pool Table  270\n"
     ]
    }
   ],
   "source": [
    "# Q10: Produce a list of facilities with a total revenue less than 1000.\n",
    "# The output of facility name and total revenue, sorted by revenue. Remember\n",
    "# that there's a different cost for guests and members!\n",
    "\n",
    "query10 = '''SELECT facility, SUM(revenue) AS facility_revenue\n",
    "           FROM (SELECT f.name as facility,\n",
    "                        CASE WHEN b.memid = 0 THEN f.guestcost*slots\n",
    "                        ELSE f.membercost*slots END AS revenue\n",
    "                 FROM Bookings as b\n",
    "                 LEFT JOIN Members as m\n",
    "                 ON b.memid = m.memid\n",
    "                 LEFT JOIN Facilities as f\n",
    "                 ON b.facid = f.facid) AS total_booking\n",
    "            GROUP BY facility\n",
    "            HAVING facility_revenue < 1000\n",
    "            ORDER BY SUM(revenue);'''\n",
    "\n",
    "call_query(conn, query10)"
   ]
  },
  {
   "cell_type": "code",
   "execution_count": 5,
   "id": "equal-majority",
   "metadata": {},
   "outputs": [
    {
     "name": "stdout",
     "output_type": "stream",
     "text": [
      "                          0                  1\n",
      "0            Bader Florence    Stibbons Ponder\n",
      "1                Baker Anne    Stibbons Ponder\n",
      "2             Baker Timothy     Farrell Jemima\n",
      "3                Boothe Tim         Rownam Tim\n",
      "4            Butters Gerald       Smith Darren\n",
      "5               Coplin Joan      Baker Timothy\n",
      "6             Crumpet Erica        Smith Tracy\n",
      "7                Dare Nancy    Joplette Janice\n",
      "8             Farrell David               None\n",
      "9            Farrell Jemima               None\n",
      "10              GUEST GUEST               None\n",
      "11          Genting Matthew     Butters Gerald\n",
      "12                Hunt John  Purview Millicent\n",
      "13              Jones David    Joplette Janice\n",
      "14            Jones Douglas        Jones David\n",
      "15          Joplette Janice       Smith Darren\n",
      "16           Mackenzie Anna       Smith Darren\n",
      "17             Owen Charles       Smith Darren\n",
      "18             Pinker David     Farrell Jemima\n",
      "19        Purview Millicent        Smith Tracy\n",
      "20               Rownam Tim               None\n",
      "21         Rumney Henrietta    Genting Matthew\n",
      "22         Sarwin Ramnaresh     Bader Florence\n",
      "23             Smith Darren               None\n",
      "24             Smith Darren               None\n",
      "25               Smith Jack       Smith Darren\n",
      "26              Smith Tracy               None\n",
      "27          Stibbons Ponder       Tracy Burton\n",
      "28             Tracy Burton               None\n",
      "29      Tupperware Hyacinth               None\n",
      "30  Worthington-Smyth Henry        Smith Tracy\n"
     ]
    }
   ],
   "source": [
    "# Q11: Produce a report of members and who recommended them in alphabetic surname,firstname order\n",
    "\n",
    "query11 = '''SELECT m1.surname || ' ' || m1.firstname as member_name,\n",
    "                    CASE WHEN m1.recommendedby=' ' THEN 'None'\n",
    "                    ELSE m2.surname || ' ' || m2.firstname END as recommendee_name\n",
    "             FROM Members as m1\n",
    "             LEFT JOIN Members as m2\n",
    "             ON m1.recommendedby = m2.memid\n",
    "             ORDER BY member_name;'''\n",
    "\n",
    "call_query(conn, query11)"
   ]
  },
  {
   "cell_type": "code",
   "execution_count": 8,
   "id": "existing-cliff",
   "metadata": {},
   "outputs": [
    {
     "name": "stdout",
     "output_type": "stream",
     "text": [
      "                    0                1    2\n",
      "0      Anna Mackenzie  Badminton Court   30\n",
      "1          Anne Baker  Badminton Court   10\n",
      "2        Burton Tracy  Badminton Court    2\n",
      "3        Charles Owen  Badminton Court    6\n",
      "4        Darren Smith  Badminton Court  132\n",
      "..                ...              ...  ...\n",
      "197  Ramnaresh Sarwin   Tennis Court 2   11\n",
      "198        Tim Boothe   Tennis Court 2   52\n",
      "199        Tim Rownam   Tennis Court 2    6\n",
      "200     Timothy Baker   Tennis Court 2    7\n",
      "201       Tracy Smith   Tennis Court 2    2\n",
      "\n",
      "[202 rows x 3 columns]\n"
     ]
    }
   ],
   "source": [
    "# Q12: Find the facilities with their usage by member, but not guests\n",
    "#question unclear...is this asking total number of uses of each facility by member?\n",
    "#or is this asking how many facilities are used by each member?\n",
    "#query12 = '''SELECT member, SUM(used) AS facilities_used\n",
    "#             FROM(SELECT DISTINCT m.memid, \n",
    "#                        firstname || ' ' || surname as member, name as facility,\n",
    "#                        CASE WHEN b.memid = 0 THEN 0\n",
    "#                        ELSE 1 END as used\n",
    "#                  FROM Facilities AS f\n",
    "#                  LEFT JOIN Bookings AS b\n",
    "#                  ON f.facid = b.facid\n",
    "#                  LEFT JOIN Members AS m\n",
    "#                  ON b.memid = m.memid) facility_usage\n",
    "#            WHERE member != 'GUEST GUEST'\n",
    "#            GROUP BY member;'''\n",
    "\n"
   ]
  },
  {
   "cell_type": "code",
   "execution_count": null,
   "id": "considered-nicholas",
   "metadata": {},
   "outputs": [],
   "source": []
  },
  {
   "cell_type": "code",
   "execution_count": 7,
   "id": "interesting-percentage",
   "metadata": {},
   "outputs": [
    {
     "name": "stdout",
     "output_type": "stream",
     "text": [
      "     0                1    2\n",
      "0   07  Badminton Court   51\n",
      "1   07   Massage Room 1   77\n",
      "2   07   Massage Room 2    4\n",
      "3   07       Pool Table  103\n",
      "4   07    Snooker Table   68\n",
      "5   07     Squash Court   23\n",
      "6   07     Table Tennis   48\n",
      "7   07   Tennis Court 1   65\n",
      "8   07   Tennis Court 2   41\n",
      "9   08  Badminton Court  132\n",
      "10  08   Massage Room 1  153\n",
      "11  08   Massage Room 2    9\n",
      "12  08       Pool Table  272\n",
      "13  08    Snooker Table  154\n",
      "14  08     Squash Court   85\n",
      "15  08     Table Tennis  143\n",
      "16  08   Tennis Court 1  111\n",
      "17  08   Tennis Court 2  109\n",
      "18  09  Badminton Court  161\n",
      "19  09   Massage Room 1  191\n",
      "20  09   Massage Room 2   14\n",
      "21  09       Pool Table  408\n",
      "22  09    Snooker Table  199\n",
      "23  09     Squash Court   87\n",
      "24  09     Table Tennis  194\n",
      "25  09   Tennis Court 1  132\n",
      "26  09   Tennis Court 2  126\n"
     ]
    }
   ],
   "source": [
    "# Q13: Find the facilities usage by month, but not guests\n",
    "\n",
    "query13 = '''SELECT month, facility, SUM(used) AS total_usage\n",
    "             FROM (SELECT strftime('%m', starttime) as month, name as facility, \n",
    "                   CASE WHEN b.memid = 0 THEN 0\n",
    "                   ELSE 1 END as used\n",
    "                   FROM Facilities AS f\n",
    "                   LEFT JOIN Bookings AS b\n",
    "                   ON f.facid = b.facid\n",
    "                   LEFT JOIN Members AS m\n",
    "                   ON b.memid = m.memid) AS facilities_used\n",
    "            GROUP BY month, facility;'''\n",
    "\n",
    "call_query(conn, query13)"
   ]
  }
 ],
 "metadata": {
  "kernelspec": {
   "display_name": "Python 3",
   "language": "python",
   "name": "python3"
  },
  "language_info": {
   "codemirror_mode": {
    "name": "ipython",
    "version": 3
   },
   "file_extension": ".py",
   "mimetype": "text/x-python",
   "name": "python",
   "nbconvert_exporter": "python",
   "pygments_lexer": "ipython3",
   "version": "3.7.9"
  }
 },
 "nbformat": 4,
 "nbformat_minor": 5
}
